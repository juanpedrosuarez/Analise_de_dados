{
  "nbformat": 4,
  "nbformat_minor": 0,
  "metadata": {
    "colab": {
      "provenance": [],
      "authorship_tag": "ABX9TyOybMrb8fDUOyZHT6BATtTZ",
      "include_colab_link": true
    },
    "kernelspec": {
      "name": "python3",
      "display_name": "Python 3"
    },
    "language_info": {
      "name": "python"
    }
  },
  "cells": [
    {
      "cell_type": "markdown",
      "metadata": {
        "id": "view-in-github",
        "colab_type": "text"
      },
      "source": [
        "<a href=\"https://colab.research.google.com/github/juanpedrosuarez/Analise_de_dados/blob/main/ProjetoBcc.ipynb\" target=\"_parent\"><img src=\"https://colab.research.google.com/assets/colab-badge.svg\" alt=\"Open In Colab\"/></a>"
      ]
    },
    {
      "cell_type": "code",
      "metadata": {
        "id": "k_4RRrr5v1PX"
      },
      "source": [
        "NOME = \"JUAN PEDRO AGUIAR SUAREZ\"\n",
        "RA = \"11202130541\"\n",
        "\n",
        "O Tabela abaixo tem o intuito de mostrar como é a base de dados. Os significados de cada coluna estão abaixo\n",
        "País (nome do país)\n",
        "Ano (ano em que o índice foi coletado)\n",
        "População (número de habitantes daquele país naquele ano)\n",
        "Continente (continente em que o país está localizado)\n",
        "Expectativa de vida (número esperado de anos ao nascer, naquele ano e país)\n",
        "PIB per capita (razão entre a renda nacional - Produto Interno Bruto - pelo número de habitantes naquele país, naquele ano)."
      ],
      "execution_count": null,
      "outputs": []
    },
    {
      "cell_type": "code",
      "metadata": {
        "colab": {
          "base_uri": "https://localhost:8080/",
          "height": 423
        },
        "id": "zpzV5hUXw5lK",
        "outputId": "90a9370f-2a9a-4296-c9c0-b7b543453b87"
      },
      "source": [
        "import pandas as pd\n",
        "df = pd.read_csv(\"https://drive.google.com/u/1/uc?id=1TPHQyck1Rdi8lwzLOkBaI0DvkqmJJdG-&export=download\")\n",
        "\n",
        "df.sample(100)\n"
      ],
      "execution_count": null,
      "outputs": [
        {
          "output_type": "execute_result",
          "data": {
            "text/html": [
              "<div>\n",
              "<style scoped>\n",
              "    .dataframe tbody tr th:only-of-type {\n",
              "        vertical-align: middle;\n",
              "    }\n",
              "\n",
              "    .dataframe tbody tr th {\n",
              "        vertical-align: top;\n",
              "    }\n",
              "\n",
              "    .dataframe thead th {\n",
              "        text-align: right;\n",
              "    }\n",
              "</style>\n",
              "<table border=\"1\" class=\"dataframe\">\n",
              "  <thead>\n",
              "    <tr style=\"text-align: right;\">\n",
              "      <th></th>\n",
              "      <th>País</th>\n",
              "      <th>Ano</th>\n",
              "      <th>População</th>\n",
              "      <th>Continente</th>\n",
              "      <th>Expectativa de Vida</th>\n",
              "      <th>PIB per capita</th>\n",
              "    </tr>\n",
              "  </thead>\n",
              "  <tbody>\n",
              "    <tr>\n",
              "      <th>0</th>\n",
              "      <td>Afghanistan</td>\n",
              "      <td>1952</td>\n",
              "      <td>8425333</td>\n",
              "      <td>Asia</td>\n",
              "      <td>28.801</td>\n",
              "      <td>779.445314</td>\n",
              "    </tr>\n",
              "    <tr>\n",
              "      <th>1</th>\n",
              "      <td>Afghanistan</td>\n",
              "      <td>1957</td>\n",
              "      <td>9240934</td>\n",
              "      <td>Asia</td>\n",
              "      <td>30.332</td>\n",
              "      <td>820.853030</td>\n",
              "    </tr>\n",
              "    <tr>\n",
              "      <th>2</th>\n",
              "      <td>Afghanistan</td>\n",
              "      <td>1962</td>\n",
              "      <td>10267083</td>\n",
              "      <td>Asia</td>\n",
              "      <td>31.997</td>\n",
              "      <td>853.100710</td>\n",
              "    </tr>\n",
              "    <tr>\n",
              "      <th>3</th>\n",
              "      <td>Afghanistan</td>\n",
              "      <td>1967</td>\n",
              "      <td>11537966</td>\n",
              "      <td>Asia</td>\n",
              "      <td>34.020</td>\n",
              "      <td>836.197138</td>\n",
              "    </tr>\n",
              "    <tr>\n",
              "      <th>4</th>\n",
              "      <td>Afghanistan</td>\n",
              "      <td>1972</td>\n",
              "      <td>13079460</td>\n",
              "      <td>Asia</td>\n",
              "      <td>36.088</td>\n",
              "      <td>739.981106</td>\n",
              "    </tr>\n",
              "    <tr>\n",
              "      <th>...</th>\n",
              "      <td>...</td>\n",
              "      <td>...</td>\n",
              "      <td>...</td>\n",
              "      <td>...</td>\n",
              "      <td>...</td>\n",
              "      <td>...</td>\n",
              "    </tr>\n",
              "    <tr>\n",
              "      <th>95</th>\n",
              "      <td>Bahrain</td>\n",
              "      <td>2007</td>\n",
              "      <td>708573</td>\n",
              "      <td>Asia</td>\n",
              "      <td>75.635</td>\n",
              "      <td>29796.048340</td>\n",
              "    </tr>\n",
              "    <tr>\n",
              "      <th>96</th>\n",
              "      <td>Bangladesh</td>\n",
              "      <td>1952</td>\n",
              "      <td>46886859</td>\n",
              "      <td>Asia</td>\n",
              "      <td>37.484</td>\n",
              "      <td>684.244172</td>\n",
              "    </tr>\n",
              "    <tr>\n",
              "      <th>97</th>\n",
              "      <td>Bangladesh</td>\n",
              "      <td>1957</td>\n",
              "      <td>51365468</td>\n",
              "      <td>Asia</td>\n",
              "      <td>39.348</td>\n",
              "      <td>661.637458</td>\n",
              "    </tr>\n",
              "    <tr>\n",
              "      <th>98</th>\n",
              "      <td>Bangladesh</td>\n",
              "      <td>1962</td>\n",
              "      <td>56839289</td>\n",
              "      <td>Asia</td>\n",
              "      <td>41.216</td>\n",
              "      <td>686.341554</td>\n",
              "    </tr>\n",
              "    <tr>\n",
              "      <th>99</th>\n",
              "      <td>Bangladesh</td>\n",
              "      <td>1967</td>\n",
              "      <td>62821884</td>\n",
              "      <td>Asia</td>\n",
              "      <td>43.453</td>\n",
              "      <td>721.186086</td>\n",
              "    </tr>\n",
              "  </tbody>\n",
              "</table>\n",
              "<p>100 rows × 6 columns</p>\n",
              "</div>"
            ],
            "text/plain": [
              "           País   Ano  ...  Expectativa de Vida PIB per capita\n",
              "0   Afghanistan  1952  ...               28.801     779.445314\n",
              "1   Afghanistan  1957  ...               30.332     820.853030\n",
              "2   Afghanistan  1962  ...               31.997     853.100710\n",
              "3   Afghanistan  1967  ...               34.020     836.197138\n",
              "4   Afghanistan  1972  ...               36.088     739.981106\n",
              "..          ...   ...  ...                  ...            ...\n",
              "95      Bahrain  2007  ...               75.635   29796.048340\n",
              "96   Bangladesh  1952  ...               37.484     684.244172\n",
              "97   Bangladesh  1957  ...               39.348     661.637458\n",
              "98   Bangladesh  1962  ...               41.216     686.341554\n",
              "99   Bangladesh  1967  ...               43.453     721.186086\n",
              "\n",
              "[100 rows x 6 columns]"
            ]
          },
          "metadata": {},
          "execution_count": 4
        }
      ]
    },
    {
      "cell_type": "markdown",
      "metadata": {
        "id": "t2vP4HpvxyaX"
      },
      "source": [
        "Digite um país e obtenha a análise da população de um país ao longo do tempo."
      ]
    },
    {
      "cell_type": "code",
      "metadata": {
        "id": "iaktdsj7yG2O",
        "colab": {
          "base_uri": "https://localhost:8080/",
          "height": 310
        },
        "outputId": "a22908ab-8bfb-4c73-ab68-655336b869cf"
      },
      "source": [
        "import pandas as pd\n",
        "import matplotlib.pyplot as plt\n",
        "\n",
        "df = pd.read_csv(\"https://drive.google.com/u/1/uc?id=1TPHQyck1Rdi8lwzLOkBaI0DvkqmJJdG-&export=download\")\n",
        "\n",
        "País = input(\"Digite um país \")\n",
        "\n",
        "filtro = df.query(\"País == @País\")\n",
        "\n",
        "plt.plot(filtro[\"Ano\"],filtro[\"População\"],'.')\n",
        "\n"
      ],
      "execution_count": null,
      "outputs": [
        {
          "name": "stdout",
          "output_type": "stream",
          "text": [
            "Digite um país Chile\n"
          ]
        },
        {
          "output_type": "execute_result",
          "data": {
            "text/plain": [
              "[<matplotlib.lines.Line2D at 0x7f2dd2e2abd0>]"
            ]
          },
          "metadata": {},
          "execution_count": 2
        },
        {
          "output_type": "display_data",
          "data": {
            "image/png": "[encoded data removed]",
            "text/plain": [
              "<Figure size 432x288 with 1 Axes>"
            ]
          },
          "metadata": {
            "needs_background": "light"
          }
        }
      ]
    },
    {
      "cell_type": "markdown",
      "metadata": {
        "id": "4iXtfQFTgjDI"
      },
      "source": [
        "Digite um país e obtenha a análise da experctativa de vida ao longo do tempo."
      ]
    },
    {
      "cell_type": "code",
      "metadata": {
        "colab": {
          "base_uri": "https://localhost:8080/",
          "height": 302
        },
        "id": "nURTw5VngMrb",
        "outputId": "6aef68da-2284-47ec-bf37-8181b20e4c86"
      },
      "source": [
        "import pandas as pd\n",
        "import matplotlib.pyplot as plt\n",
        "\n",
        "df = pd.read_csv(\"https://drive.google.com/u/1/uc?id=1TPHQyck1Rdi8lwzLOkBaI0DvkqmJJdG-&export=download\")\n",
        "\n",
        "País = input(\"Digite um país \")\n",
        "\n",
        "filtro = df.query(\"País == @País\")\n",
        "\n",
        "plt.plot(filtro[\"Ano\"],filtro[\"Expectativa de Vida\"],'.')"
      ],
      "execution_count": null,
      "outputs": [
        {
          "name": "stdout",
          "output_type": "stream",
          "text": [
            "Digite um país Chile\n"
          ]
        },
        {
          "output_type": "execute_result",
          "data": {
            "text/plain": [
              "[<matplotlib.lines.Line2D at 0x7ff290fbc7d0>]"
            ]
          },
          "metadata": {},
          "execution_count": 1
        },
        {
          "output_type": "display_data",
          "data": {
            "image/png": "[encoded data removed]",
            "text/plain": [
              "<Figure size 432x288 with 1 Axes>"
            ]
          },
          "metadata": {
            "needs_background": "light"
          }
        }
      ]
    },
    {
      "cell_type": "markdown",
      "metadata": {
        "id": "Kreoxt76hXW6"
      },
      "source": [
        "Digite um país e obtenha o PIB percapita ao longo do tempo."
      ]
    },
    {
      "cell_type": "code",
      "metadata": {
        "colab": {
          "base_uri": "https://localhost:8080/",
          "height": 302
        },
        "id": "rXf6cmCIhYGK",
        "outputId": "acb27343-169c-4ded-966c-836ec576e37b"
      },
      "source": [
        "import pandas as pd\n",
        "import matplotlib.pyplot as plt\n",
        "\n",
        "df = pd.read_csv(\"https://drive.google.com/u/1/uc?id=1TPHQyck1Rdi8lwzLOkBaI0DvkqmJJdG-&export=download\")\n",
        "\n",
        "País = input(\"Digite um país \")\n",
        "\n",
        "filtro = df.query(\"País == @País\")\n",
        "\n",
        "plt.plot(filtro[\"Ano\"],filtro[\"PIB per capita\"],'.')"
      ],
      "execution_count": null,
      "outputs": [
        {
          "name": "stdout",
          "output_type": "stream",
          "text": [
            "Digite um país China\n"
          ]
        },
        {
          "output_type": "execute_result",
          "data": {
            "text/plain": [
              "[<matplotlib.lines.Line2D at 0x7ff290a24950>]"
            ]
          },
          "metadata": {},
          "execution_count": 2
        },
        {
          "output_type": "display_data",
          "data": {
            "image/png": "[encoded data removed]",
            "text/plain": [
              "<Figure size 432x288 with 1 Axes>"
            ]
          },
          "metadata": {
            "needs_background": "light"
          }
        }
      ]
    },
    {
      "cell_type": "markdown",
      "metadata": {
        "id": "rBmL4rY-tqsv"
      },
      "source": [
        "Digite dois países e compare a expectativa de vida de dois países em função do ano"
      ]
    },
    {
      "cell_type": "code",
      "metadata": {
        "colab": {
          "base_uri": "https://localhost:8080/",
          "height": 317
        },
        "id": "14kRtexJug3U",
        "outputId": "29421ad9-14bb-44fc-d479-937358939b5f"
      },
      "source": [
        "import pandas as pd\n",
        "import matplotlib.pyplot as plt\n",
        "\n",
        "df = pd.read_csv(\"https://drive.google.com/u/1/uc?id=1TPHQyck1Rdi8lwzLOkBaI0DvkqmJJdG-&export=download\")\n",
        "\n",
        "País = input(\"Digite um país \")\n",
        "País2 = input(\"Digite outro país \")\n",
        "filtro = df.query(\"País == @País\")\n",
        "filtro2 = df.query(\"País == @País2\")\n",
        "\n",
        "plt.plot(filtro[\"Ano\"],filtro[\"Expectativa de Vida\"],'.')\n",
        "plt.plot(filtro2[\"Ano\"],filtro2[\"Expectativa de Vida\"],'.')\n"
      ],
      "execution_count": null,
      "outputs": [
        {
          "name": "stdout",
          "output_type": "stream",
          "text": [
            "Digite um país Chile\n",
            "Digite outro país Brazil\n"
          ]
        },
        {
          "output_type": "execute_result",
          "data": {
            "text/plain": [
              "[<matplotlib.lines.Line2D at 0x7f2853ce4250>]"
            ]
          },
          "metadata": {},
          "execution_count": 1
        },
        {
          "output_type": "display_data",
          "data": {
            "text/plain": [
              "<Figure size 432x288 with 1 Axes>"
            ],
            "image/png": "[encoded data removed]"
          },
          "metadata": {
            "needs_background": "light"
          }
        }
      ]
    },
    {
      "cell_type": "markdown",
      "metadata": {
        "id": "LEAkIxguvYCZ"
      },
      "source": [
        "Digite dois países e compare a população de dois países em função do ano\n"
      ]
    },
    {
      "cell_type": "code",
      "metadata": {
        "colab": {
          "base_uri": "https://localhost:8080/",
          "height": 331
        },
        "id": "mQQxvMRNvY0m",
        "outputId": "005de270-a090-431c-8ac7-61f52189674e"
      },
      "source": [
        "import pandas as pd\n",
        "import matplotlib.pyplot as plt\n",
        "\n",
        "df = pd.read_csv(\"https://drive.google.com/u/1/uc?id=1TPHQyck1Rdi8lwzLOkBaI0DvkqmJJdG-&export=download\")\n",
        "\n",
        "País = input(\"Digite um país \")\n",
        "País2 = input(\"Digite outro país \")\n",
        "filtro = df.query(\"País == @País\")\n",
        "filtro2 = df.query(\"País == @País2\")\n",
        "\n",
        "plt.plot(filtro[\"Ano\"],filtro[\"População\"],'.')\n",
        "plt.plot(filtro2[\"Ano\"],filtro2[\"População\"],'.')\n"
      ],
      "execution_count": null,
      "outputs": [
        {
          "name": "stdout",
          "output_type": "stream",
          "text": [
            "Digite um país Chile\n",
            "Digite outro país Brazil\n"
          ]
        },
        {
          "output_type": "execute_result",
          "data": {
            "text/plain": [
              "[<matplotlib.lines.Line2D at 0x7f7890d78550>]"
            ]
          },
          "metadata": {},
          "execution_count": 1
        },
        {
          "output_type": "display_data",
          "data": {
            "image/png": "[encoded data removed]",
            "text/plain": [
              "<Figure size 432x288 with 1 Axes>"
            ]
          },
          "metadata": {
            "needs_background": "light"
          }
        }
      ]
    },
    {
      "cell_type": "markdown",
      "metadata": {
        "id": "Eo6R1qP6vith"
      },
      "source": [
        "Digite dois países e compare o PIB per capita de dois países em função do ano"
      ]
    },
    {
      "cell_type": "code",
      "metadata": {
        "colab": {
          "base_uri": "https://localhost:8080/",
          "height": 319
        },
        "id": "BpC_D6GSvkjj",
        "outputId": "1ea1042e-e947-421c-a4ff-d6b2ba9dc067"
      },
      "source": [
        "import pandas as pd\n",
        "import matplotlib.pyplot as plt\n",
        "\n",
        "df = pd.read_csv(\"https://drive.google.com/u/1/uc?id=1TPHQyck1Rdi8lwzLOkBaI0DvkqmJJdG-&export=download\")\n",
        "\n",
        "País = input(\"Digite um país \")\n",
        "País2 = input(\"Digite outro país \")\n",
        "filtro = df.query(\"País == @País\")\n",
        "filtro2 = df.query(\"País == @País2\")\n",
        "\n",
        "plt.plot(filtro[\"Ano\"],filtro[\"PIB per capita\"],'.')\n",
        "plt.plot(filtro2[\"Ano\"],filtro2[\"PIB per capita\"],'.')"
      ],
      "execution_count": null,
      "outputs": [
        {
          "name": "stdout",
          "output_type": "stream",
          "text": [
            "Digite um país Brazil\n",
            "Digite outro país Chile\n"
          ]
        },
        {
          "output_type": "execute_result",
          "data": {
            "text/plain": [
              "[<matplotlib.lines.Line2D at 0x7f9b0db9ca90>]"
            ]
          },
          "metadata": {},
          "execution_count": 48
        },
        {
          "output_type": "display_data",
          "data": {
            "image/png": "[encoded data removed]",
            "text/plain": [
              "<Figure size 432x288 with 1 Axes>"
            ]
          },
          "metadata": {
            "needs_background": "light"
          }
        }
      ]
    },
    {
      "cell_type": "markdown",
      "metadata": {
        "id": "VDzm0zDPyKmZ"
      },
      "source": [
        " Digite um país e obtenha o continente que este pais está"
      ]
    },
    {
      "cell_type": "code",
      "metadata": {
        "id": "cHdEpTIlybpo",
        "colab": {
          "base_uri": "https://localhost:8080/",
          "height": 98
        },
        "outputId": "c821186a-a454-4175-dff2-a271cfc173e0"
      },
      "source": [
        "import pandas as pd\n",
        "import matplotlib.pyplot as plt\n",
        "\n",
        "df = pd.read_csv(\"https://drive.google.com/u/1/uc?id=1TPHQyck1Rdi8lwzLOkBaI0DvkqmJJdG-&export=download\")\n",
        "\n",
        "pais = input(\"Digite um país \")\n",
        "\n",
        "\n",
        "\n",
        "filtro = df[[\"País\", \"Continente\" ]]\n",
        "\n",
        "filtro = filtro.query(\"País == @pais\")\n",
        "a = filtro\n",
        "a.head(1)\n",
        "\n"
      ],
      "execution_count": null,
      "outputs": [
        {
          "name": "stdout",
          "output_type": "stream",
          "text": [
            "Digite um país Chile\n"
          ]
        },
        {
          "output_type": "execute_result",
          "data": {
            "text/html": [
              "<div>\n",
              "<style scoped>\n",
              "    .dataframe tbody tr th:only-of-type {\n",
              "        vertical-align: middle;\n",
              "    }\n",
              "\n",
              "    .dataframe tbody tr th {\n",
              "        vertical-align: top;\n",
              "    }\n",
              "\n",
              "    .dataframe thead th {\n",
              "        text-align: right;\n",
              "    }\n",
              "</style>\n",
              "<table border=\"1\" class=\"dataframe\">\n",
              "  <thead>\n",
              "    <tr style=\"text-align: right;\">\n",
              "      <th></th>\n",
              "      <th>País</th>\n",
              "      <th>Continente</th>\n",
              "    </tr>\n",
              "  </thead>\n",
              "  <tbody>\n",
              "    <tr>\n",
              "      <th>276</th>\n",
              "      <td>Chile</td>\n",
              "      <td>Americas</td>\n",
              "    </tr>\n",
              "  </tbody>\n",
              "</table>\n",
              "</div>"
            ],
            "text/plain": [
              "      País Continente\n",
              "276  Chile   Americas"
            ]
          },
          "metadata": {},
          "execution_count": 8
        }
      ]
    },
    {
      "cell_type": "markdown",
      "metadata": {
        "id": "ByCHBw2-MXJ0"
      },
      "source": [
        "Digite a população e obtenha os países que possuem aproximadamente essa população."
      ]
    },
    {
      "cell_type": "code",
      "metadata": {
        "colab": {
          "base_uri": "https://localhost:8080/",
          "height": 441
        },
        "id": "2TdMgJYOMx1z",
        "outputId": "b296eb16-7fe7-444b-cf31-02e9b4f51c0d"
      },
      "source": [
        "import pandas as pd\n",
        "df = pd.read_csv(\"https://drive.google.com/u/1/uc?id=1TPHQyck1Rdi8lwzLOkBaI0DvkqmJJdG-&export=download\")\n",
        "\n",
        "Populacao = int(input(\"Dite um valor de população \"))\n",
        "\n",
        "X = Populacao + 100\n",
        "Y = Populacao + 500\n",
        "Z = Populacao + 1000\n",
        "A = Populacao + 5000\n",
        "B = Populacao + 50000\n",
        "C = Populacao + 100000\n",
        "D = Populacao + 500000\n",
        "E = Populacao + 1000000\n",
        "F = Populacao + 5000000\n",
        "G = Populacao + 10000000\n",
        "H = Populacao + 50000000\n",
        "I = Populacao + 100000000\n",
        "J = Populacao + 1000000000\n",
        "\n",
        "\n",
        "if Populacao >= 200 and Populacao <1000:\n",
        "  df =  df.query(\"`População` >= @Populacao and `População` < @X \")\n",
        "  df = df.head(100)\n",
        "elif Populacao >=1000 and Populacao < 5000:\n",
        "  df = df.query(\"`População` >= @Populacao and `População` < @Y \")\n",
        "  df = df.head(100)\n",
        "elif Populacao >=5000 and Populacao < 10000:\n",
        "  df = df.query(\"`População` >= @Populacao and `População` < @Z \")\n",
        "  df = df.head(100)\n",
        "elif Populacao >=10000 and Populacao < 50000:\n",
        "  df = df.query(\"`População` >= @Populacao and `População` < @A \")\n",
        "  df = df.head(100)\n",
        "elif Populacao >=50000 and Populacao < 100000:\n",
        "  df = df.query(\"`População` >= @Populacao and `População` < @B \")\n",
        "  df = df.head(100)\n",
        "elif Populacao >=100000 and Populacao < 500000:\n",
        "  df = df.query(\"`População` >= @Populacao and `População` < @C \")\n",
        "  df = df.head(100)\n",
        "elif Populacao >=500000 and Populacao < 1000000:\n",
        "  df = df.query(\"`População` >= @Populacao and `População` < @D \")\n",
        "  df = df.head(100)\n",
        "elif Populacao >=1000000 and Populacao < 5000000:\n",
        "  df = df.query(\"`População` > @Populacao and `População` < @E \")\n",
        "  df = df.head(100)\n",
        "elif Populacao >=5000000 and Populacao < 10000000:\n",
        "  df = df.query(\"`População` > @Populacao and `População` < @F \")\n",
        "  df = df.head(100)\n",
        "elif Populacao >=10000000 and Populacao < 50000000:\n",
        "  df = df.query(\"`População` > @Populacao and `População` < @G \")\n",
        "  df = df.head(100)\n",
        "elif Populacao >=50000000 and Populacao < 100000000:\n",
        "  df = df.query(\"`População` > @Populacao and `População` < @H \")\n",
        "  df = df.head(100)\n",
        "elif Populacao >=100000000 and Populacao < 500000000:\n",
        "  df = df.query(\"`População` > @Populacao and `População` < @I \")\n",
        "  df = df.head(100)\n",
        "else:\n",
        "  df = df.query(\"`População` > @Populacao and `População` < @J \")\n",
        "  df = df.head(100)\n",
        "df"
      ],
      "execution_count": null,
      "outputs": [
        {
          "name": "stdout",
          "output_type": "stream",
          "text": [
            "Dite um valor de população 1000000\n"
          ]
        },
        {
          "output_type": "execute_result",
          "data": {
            "text/plain": [
              "             País   Ano  População Continente  Expectativa de Vida  \\\n",
              "12        Albania  1952    1282697     Europe               55.230   \n",
              "13        Albania  1957    1476505     Europe               59.280   \n",
              "14        Albania  1962    1728137     Europe               64.820   \n",
              "15        Albania  1967    1984060     Europe               66.220   \n",
              "120         Benin  1952    1738315     Africa               38.223   \n",
              "...           ...   ...        ...        ...                  ...   \n",
              "1063      Namibia  1987    1278184     Africa               60.835   \n",
              "1064      Namibia  1992    1554253     Africa               61.999   \n",
              "1065      Namibia  1997    1774766     Africa               58.909   \n",
              "1066      Namibia  2002    1972153     Africa               51.479   \n",
              "1092  New Zealand  1952    1994794    Oceania               69.390   \n",
              "\n",
              "      PIB per capita  \n",
              "12       1601.056136  \n",
              "13       1942.284244  \n",
              "14       2312.888958  \n",
              "15       2760.196931  \n",
              "120      1062.752200  \n",
              "...              ...  \n",
              "1063     3693.731337  \n",
              "1064     3804.537999  \n",
              "1065     3899.524260  \n",
              "1066     4072.324751  \n",
              "1092    10556.575660  \n",
              "\n",
              "[100 rows x 6 columns]"
            ],
            "text/html": [
              "\n",
              "  <div id=\"df-4bf78841-0bce-44e6-ab96-3c15364556c6\">\n",
              "    <div class=\"colab-df-container\">\n",
              "      <div>\n",
              "<style scoped>\n",
              "    .dataframe tbody tr th:only-of-type {\n",
              "        vertical-align: middle;\n",
              "    }\n",
              "\n",
              "    .dataframe tbody tr th {\n",
              "        vertical-align: top;\n",
              "    }\n",
              "\n",
              "    .dataframe thead th {\n",
              "        text-align: right;\n",
              "    }\n",
              "</style>\n",
              "<table border=\"1\" class=\"dataframe\">\n",
              "  <thead>\n",
              "    <tr style=\"text-align: right;\">\n",
              "      <th></th>\n",
              "      <th>País</th>\n",
              "      <th>Ano</th>\n",
              "      <th>População</th>\n",
              "      <th>Continente</th>\n",
              "      <th>Expectativa de Vida</th>\n",
              "      <th>PIB per capita</th>\n",
              "    </tr>\n",
              "  </thead>\n",
              "  <tbody>\n",
              "    <tr>\n",
              "      <th>12</th>\n",
              "      <td>Albania</td>\n",
              "      <td>1952</td>\n",
              "      <td>1282697</td>\n",
              "      <td>Europe</td>\n",
              "      <td>55.230</td>\n",
              "      <td>1601.056136</td>\n",
              "    </tr>\n",
              "    <tr>\n",
              "      <th>13</th>\n",
              "      <td>Albania</td>\n",
              "      <td>1957</td>\n",
              "      <td>1476505</td>\n",
              "      <td>Europe</td>\n",
              "      <td>59.280</td>\n",
              "      <td>1942.284244</td>\n",
              "    </tr>\n",
              "    <tr>\n",
              "      <th>14</th>\n",
              "      <td>Albania</td>\n",
              "      <td>1962</td>\n",
              "      <td>1728137</td>\n",
              "      <td>Europe</td>\n",
              "      <td>64.820</td>\n",
              "      <td>2312.888958</td>\n",
              "    </tr>\n",
              "    <tr>\n",
              "      <th>15</th>\n",
              "      <td>Albania</td>\n",
              "      <td>1967</td>\n",
              "      <td>1984060</td>\n",
              "      <td>Europe</td>\n",
              "      <td>66.220</td>\n",
              "      <td>2760.196931</td>\n",
              "    </tr>\n",
              "    <tr>\n",
              "      <th>120</th>\n",
              "      <td>Benin</td>\n",
              "      <td>1952</td>\n",
              "      <td>1738315</td>\n",
              "      <td>Africa</td>\n",
              "      <td>38.223</td>\n",
              "      <td>1062.752200</td>\n",
              "    </tr>\n",
              "    <tr>\n",
              "      <th>...</th>\n",
              "      <td>...</td>\n",
              "      <td>...</td>\n",
              "      <td>...</td>\n",
              "      <td>...</td>\n",
              "      <td>...</td>\n",
              "      <td>...</td>\n",
              "    </tr>\n",
              "    <tr>\n",
              "      <th>1063</th>\n",
              "      <td>Namibia</td>\n",
              "      <td>1987</td>\n",
              "      <td>1278184</td>\n",
              "      <td>Africa</td>\n",
              "      <td>60.835</td>\n",
              "      <td>3693.731337</td>\n",
              "    </tr>\n",
              "    <tr>\n",
              "      <th>1064</th>\n",
              "      <td>Namibia</td>\n",
              "      <td>1992</td>\n",
              "      <td>1554253</td>\n",
              "      <td>Africa</td>\n",
              "      <td>61.999</td>\n",
              "      <td>3804.537999</td>\n",
              "    </tr>\n",
              "    <tr>\n",
              "      <th>1065</th>\n",
              "      <td>Namibia</td>\n",
              "      <td>1997</td>\n",
              "      <td>1774766</td>\n",
              "      <td>Africa</td>\n",
              "      <td>58.909</td>\n",
              "      <td>3899.524260</td>\n",
              "    </tr>\n",
              "    <tr>\n",
              "      <th>1066</th>\n",
              "      <td>Namibia</td>\n",
              "      <td>2002</td>\n",
              "      <td>1972153</td>\n",
              "      <td>Africa</td>\n",
              "      <td>51.479</td>\n",
              "      <td>4072.324751</td>\n",
              "    </tr>\n",
              "    <tr>\n",
              "      <th>1092</th>\n",
              "      <td>New Zealand</td>\n",
              "      <td>1952</td>\n",
              "      <td>1994794</td>\n",
              "      <td>Oceania</td>\n",
              "      <td>69.390</td>\n",
              "      <td>10556.575660</td>\n",
              "    </tr>\n",
              "  </tbody>\n",
              "</table>\n",
              "<p>100 rows × 6 columns</p>\n",
              "</div>\n",
              "      <button class=\"colab-df-convert\" onclick=\"convertToInteractive('df-4bf78841-0bce-44e6-ab96-3c15364556c6')\"\n",
              "              title=\"Convert this dataframe to an interactive table.\"\n",
              "              style=\"display:none;\">\n",
              "        \n",
              "  <svg xmlns=\"http://www.w3.org/2000/svg\" height=\"24px\"viewBox=\"0 0 24 24\"\n",
              "       width=\"24px\">\n",
              "    <path d=\"M0 0h24v24H0V0z\" fill=\"none\"/>\n",
              "    <path d=\"M18.56 5.44l.94 2.06.94-2.06 2.06-.94-2.06-.94-.94-2.06-.94 2.06-2.06.94zm-11 1L8.5 8.5l.94-2.06 2.06-.94-2.06-.94L8.5 2.5l-.94 2.06-2.06.94zm10 10l.94 2.06.94-2.06 2.06-.94-2.06-.94-.94-2.06-.94 2.06-2.06.94z\"/><path d=\"M17.41 7.96l-1.37-1.37c-.4-.4-.92-.59-1.43-.59-.52 0-1.04.2-1.43.59L10.3 9.45l-7.72 7.72c-.78.78-.78 2.05 0 2.83L4 21.41c.39.39.9.59 1.41.59.51 0 1.02-.2 1.41-.59l7.78-7.78 2.81-2.81c.8-.78.8-2.07 0-2.86zM5.41 20L4 18.59l7.72-7.72 1.47 1.35L5.41 20z\"/>\n",
              "  </svg>\n",
              "      </button>\n",
              "      \n",
              "  <style>\n",
              "    .colab-df-container {\n",
              "      display:flex;\n",
              "      flex-wrap:wrap;\n",
              "      gap: 12px;\n",
              "    }\n",
              "\n",
              "    .colab-df-convert {\n",
              "      background-color: #E8F0FE;\n",
              "      border: none;\n",
              "      border-radius: 50%;\n",
              "      cursor: pointer;\n",
              "      display: none;\n",
              "      fill: #1967D2;\n",
              "      height: 32px;\n",
              "      padding: 0 0 0 0;\n",
              "      width: 32px;\n",
              "    }\n",
              "\n",
              "    .colab-df-convert:hover {\n",
              "      background-color: #E2EBFA;\n",
              "      box-shadow: 0px 1px 2px rgba(60, 64, 67, 0.3), 0px 1px 3px 1px rgba(60, 64, 67, 0.15);\n",
              "      fill: #174EA6;\n",
              "    }\n",
              "\n",
              "    [theme=dark] .colab-df-convert {\n",
              "      background-color: #3B4455;\n",
              "      fill: #D2E3FC;\n",
              "    }\n",
              "\n",
              "    [theme=dark] .colab-df-convert:hover {\n",
              "      background-color: #434B5C;\n",
              "      box-shadow: 0px 1px 3px 1px rgba(0, 0, 0, 0.15);\n",
              "      filter: drop-shadow(0px 1px 2px rgba(0, 0, 0, 0.3));\n",
              "      fill: #FFFFFF;\n",
              "    }\n",
              "  </style>\n",
              "\n",
              "      <script>\n",
              "        const buttonEl =\n",
              "          document.querySelector('#df-4bf78841-0bce-44e6-ab96-3c15364556c6 button.colab-df-convert');\n",
              "        buttonEl.style.display =\n",
              "          google.colab.kernel.accessAllowed ? 'block' : 'none';\n",
              "\n",
              "        async function convertToInteractive(key) {\n",
              "          const element = document.querySelector('#df-4bf78841-0bce-44e6-ab96-3c15364556c6');\n",
              "          const dataTable =\n",
              "            await google.colab.kernel.invokeFunction('convertToInteractive',\n",
              "                                                     [key], {});\n",
              "          if (!dataTable) return;\n",
              "\n",
              "          const docLinkHtml = 'Like what you see? Visit the ' +\n",
              "            '<a target=\"_blank\" href=https://colab.research.google.com/notebooks/data_table.ipynb>data table notebook</a>'\n",
              "            + ' to learn more about interactive tables.';\n",
              "          element.innerHTML = '';\n",
              "          dataTable['output_type'] = 'display_data';\n",
              "          await google.colab.output.renderOutput(dataTable, element);\n",
              "          const docLink = document.createElement('div');\n",
              "          docLink.innerHTML = docLinkHtml;\n",
              "          element.appendChild(docLink);\n",
              "        }\n",
              "      </script>\n",
              "    </div>\n",
              "  </div>\n",
              "  "
            ]
          },
          "metadata": {},
          "execution_count": 2
        }
      ]
    },
    {
      "cell_type": "markdown",
      "metadata": {
        "id": "LYu_sVf4M5u7"
      },
      "source": [
        "Digite a expectativa de vida e obtenha países que possuem aproximadamente essa expectativa de vida"
      ]
    },
    {
      "cell_type": "code",
      "metadata": {
        "colab": {
          "base_uri": "https://localhost:8080/",
          "height": 130
        },
        "id": "ZUor5NwfmoIg",
        "outputId": "16b9f118-abab-4138-8ec2-3cb0a81ecefa"
      },
      "source": [
        "import pandas as pd\n",
        "df = pd.read_csv(\"https://drive.google.com/u/1/uc?id=1TPHQyck1Rdi8lwzLOkBaI0DvkqmJJdG-&export=download\", sep=\",\")\n",
        "\n",
        "expec = int(input(\"Dite um valor de expectativa de vida \"))\n",
        "\n",
        "X = expec + 2\n",
        "Y = expec + 5\n",
        "Z = expec + 10\n",
        "A = expec + 20\n",
        "B = expec + 30\n",
        "\n",
        "\n",
        "if expec >= 25 and expec <35:\n",
        "  df =  df.query(\"`Expectativa de Vida` >= @expec and `Expectativa de Vida` < @X \")\n",
        "  df = df.head(100)\n",
        "elif expec >=35 and expec < 50:\n",
        "  df = df.query(\"`Expectativa de Vida` >= @expec and `Expectativa de Vida` < @Y \")\n",
        "  df = df.head(100)\n",
        "elif expec >=50 and expec < 70:\n",
        "  df = df.query(\"`Expectativa de Vida` >= @expec and `Expectativa de Vida` < @Z \")\n",
        "  df = df.head(100)\n",
        "elif expec >=70 and expec <= 90:\n",
        "  df = df.query(\"`Expectativa de Vida` >= @expec and `Expectativa de Vida` < @A \")\n",
        "  df = df.head(100)\n",
        "else:\n",
        "  df = df.query(\"`Expectativa de Vida` >= @expec and `Expectativa de Vida` < @B \")\n",
        "  df = df.head(100)\n",
        "df"
      ],
      "execution_count": null,
      "outputs": [
        {
          "name": "stdout",
          "output_type": "stream",
          "text": [
            "Dite um valor de expectativa de vida 0\n"
          ]
        },
        {
          "output_type": "execute_result",
          "data": {
            "text/html": [
              "<div>\n",
              "<style scoped>\n",
              "    .dataframe tbody tr th:only-of-type {\n",
              "        vertical-align: middle;\n",
              "    }\n",
              "\n",
              "    .dataframe tbody tr th {\n",
              "        vertical-align: top;\n",
              "    }\n",
              "\n",
              "    .dataframe thead th {\n",
              "        text-align: right;\n",
              "    }\n",
              "</style>\n",
              "<table border=\"1\" class=\"dataframe\">\n",
              "  <thead>\n",
              "    <tr style=\"text-align: right;\">\n",
              "      <th></th>\n",
              "      <th>País</th>\n",
              "      <th>Ano</th>\n",
              "      <th>População</th>\n",
              "      <th>Continente</th>\n",
              "      <th>Expectativa de Vida</th>\n",
              "      <th>PIB per capita</th>\n",
              "    </tr>\n",
              "  </thead>\n",
              "  <tbody>\n",
              "    <tr>\n",
              "      <th>0</th>\n",
              "      <td>Afghanistan</td>\n",
              "      <td>1952</td>\n",
              "      <td>8425333</td>\n",
              "      <td>Asia</td>\n",
              "      <td>28.801</td>\n",
              "      <td>779.445314</td>\n",
              "    </tr>\n",
              "    <tr>\n",
              "      <th>1292</th>\n",
              "      <td>Rwanda</td>\n",
              "      <td>1992</td>\n",
              "      <td>7290203</td>\n",
              "      <td>Africa</td>\n",
              "      <td>23.599</td>\n",
              "      <td>737.068595</td>\n",
              "    </tr>\n",
              "  </tbody>\n",
              "</table>\n",
              "</div>"
            ],
            "text/plain": [
              "             País   Ano  ...  Expectativa de Vida PIB per capita\n",
              "0     Afghanistan  1952  ...               28.801     779.445314\n",
              "1292       Rwanda  1992  ...               23.599     737.068595\n",
              "\n",
              "[2 rows x 6 columns]"
            ]
          },
          "metadata": {},
          "execution_count": 38
        }
      ]
    },
    {
      "cell_type": "markdown",
      "metadata": {
        "id": "Vv1FXBZaNSEv"
      },
      "source": [
        "Digite o PIB per capita e obtenha países que possuem aproximadamente o valor desse PIB per capita"
      ]
    },
    {
      "cell_type": "code",
      "metadata": {
        "id": "AJZdSWRQyijR",
        "colab": {
          "base_uri": "https://localhost:8080/",
          "height": 162
        },
        "outputId": "d3e326a5-6cb6-4dca-89cb-dfbe76f01ae3"
      },
      "source": [
        "import pandas as pd\n",
        "df = pd.read_csv(\"https://drive.google.com/u/1/uc?id=1TPHQyck1Rdi8lwzLOkBaI0DvkqmJJdG-&export=download\", sep=\",\")\n",
        "\n",
        "Pib = int(input(\"Dite o valor de um PIB per capita \"))\n",
        "\n",
        "X = Pib + 100\n",
        "Y = Pib + 500\n",
        "Z = Pib + 1000\n",
        "A = Pib + 5000\n",
        "B = Pib + 50000\n",
        "\n",
        "\n",
        "if Pib >= 200 and Pib <1000:\n",
        "  df =  df.query(\"`PIB per capita` >= @Pib and `PIB per capita` < @X \")\n",
        "  df = df.head(100)\n",
        "elif Pib >=1000 and Pib < 5000:\n",
        "  df = df.query(\"`PIB per capita` >= @Pib and `PIB per capita` < @Y \")\n",
        "  df = df.head(100)\n",
        "elif Pib >=5000 and Pib < 10000:\n",
        "  df = df.query(\"`PIB per capita` >= @Pib and `PIB per capita` < @Z \")\n",
        "  df = df.head(100)\n",
        "elif Pib >=10000 and Pib <= 50000:\n",
        "  df = df.query(\"`PIB per capita` >= @Pib and `PIB per capita` < @A \")\n",
        "  df = df.head(100)\n",
        "else:\n",
        "  df = df.query(\"`PIB per capita` >= @Pib and `PIB per capita` < @B \")\n",
        "  df = df.head(100)\n",
        "df"
      ],
      "execution_count": null,
      "outputs": [
        {
          "name": "stdout",
          "output_type": "stream",
          "text": [
            "Dite o valor de um PIB 100000\n"
          ]
        },
        {
          "output_type": "execute_result",
          "data": {
            "text/html": [
              "<div>\n",
              "<style scoped>\n",
              "    .dataframe tbody tr th:only-of-type {\n",
              "        vertical-align: middle;\n",
              "    }\n",
              "\n",
              "    .dataframe tbody tr th {\n",
              "        vertical-align: top;\n",
              "    }\n",
              "\n",
              "    .dataframe thead th {\n",
              "        text-align: right;\n",
              "    }\n",
              "</style>\n",
              "<table border=\"1\" class=\"dataframe\">\n",
              "  <thead>\n",
              "    <tr style=\"text-align: right;\">\n",
              "      <th></th>\n",
              "      <th>País</th>\n",
              "      <th>Ano</th>\n",
              "      <th>População</th>\n",
              "      <th>Continente</th>\n",
              "      <th>Expectativa de Vida</th>\n",
              "      <th>PIB per capita</th>\n",
              "    </tr>\n",
              "  </thead>\n",
              "  <tbody>\n",
              "    <tr>\n",
              "      <th>852</th>\n",
              "      <td>Kuwait</td>\n",
              "      <td>1952</td>\n",
              "      <td>160000</td>\n",
              "      <td>Asia</td>\n",
              "      <td>55.565</td>\n",
              "      <td>108382.3529</td>\n",
              "    </tr>\n",
              "    <tr>\n",
              "      <th>853</th>\n",
              "      <td>Kuwait</td>\n",
              "      <td>1957</td>\n",
              "      <td>212846</td>\n",
              "      <td>Asia</td>\n",
              "      <td>58.033</td>\n",
              "      <td>113523.1329</td>\n",
              "    </tr>\n",
              "    <tr>\n",
              "      <th>856</th>\n",
              "      <td>Kuwait</td>\n",
              "      <td>1972</td>\n",
              "      <td>841934</td>\n",
              "      <td>Asia</td>\n",
              "      <td>67.712</td>\n",
              "      <td>109347.8670</td>\n",
              "    </tr>\n",
              "  </tbody>\n",
              "</table>\n",
              "</div>"
            ],
            "text/plain": [
              "       País   Ano  População Continente  Expectativa de Vida  PIB per capita\n",
              "852  Kuwait  1952     160000       Asia               55.565     108382.3529\n",
              "853  Kuwait  1957     212846       Asia               58.033     113523.1329\n",
              "856  Kuwait  1972     841934       Asia               67.712     109347.8670"
            ]
          },
          "metadata": {},
          "execution_count": 17
        }
      ]
    },
    {
      "cell_type": "markdown",
      "metadata": {
        "id": "m3PqHO551WKe"
      },
      "source": [
        "Digite o país e obtenha o coeficiente de correlacão da população em função do ano"
      ]
    },
    {
      "cell_type": "code",
      "metadata": {
        "colab": {
          "base_uri": "https://localhost:8080/"
        },
        "id": "mHYpRi26qVWb",
        "outputId": "5cf68cc9-0001-4712-a11c-bd8519b01405"
      },
      "source": [
        "import pandas as pd\n",
        "import matplotlib.pyplot as plt\n",
        "\n",
        "df = pd.read_csv(\"https://drive.google.com/u/1/uc?id=1TPHQyck1Rdi8lwzLOkBaI0DvkqmJJdG-&export=download\")\n",
        "\n",
        "País = input(\"Digite um país \")\n",
        "\n",
        "filtro = df.query(\"País == @País\")\n",
        "x = filtro['Ano'].corr(filtro['População'])\n",
        "print(x)\n"
      ],
      "execution_count": null,
      "outputs": [
        {
          "output_type": "stream",
          "name": "stdout",
          "text": [
            "Digite um país Chile\n",
            "0.9992104290110976\n"
          ]
        }
      ]
    },
    {
      "cell_type": "markdown",
      "metadata": {
        "id": "wcD_GiOF2Pfj"
      },
      "source": [
        "Digite o país e obtenha o coeficiente de correlacão da expectativa de vida em função do ano"
      ]
    },
    {
      "cell_type": "code",
      "metadata": {
        "colab": {
          "base_uri": "https://localhost:8080/"
        },
        "id": "nROwDSYy2XoS",
        "outputId": "e6a9d34d-35a1-487c-9eab-9af93c277718"
      },
      "source": [
        "import pandas as pd\n",
        "import matplotlib.pyplot as plt\n",
        "\n",
        "df = pd.read_csv(\"https://drive.google.com/u/1/uc?id=1TPHQyck1Rdi8lwzLOkBaI0DvkqmJJdG-&export=download\")\n",
        "\n",
        "País = input(\"Digite um país \")\n",
        "\n",
        "filtro = df.query(\"País == @País\")\n",
        "x = filtro['Ano'].corr(filtro[\"Expectativa de Vida\"])\n",
        "print(x)"
      ],
      "execution_count": null,
      "outputs": [
        {
          "output_type": "stream",
          "name": "stdout",
          "text": [
            "Digite um país Chile\n",
            "0.9913612363931192\n"
          ]
        }
      ]
    },
    {
      "cell_type": "markdown",
      "metadata": {
        "id": "wupSbGNS2akt"
      },
      "source": [
        "Digite o país e obtenha o coeficiente de correlacão do PIB per capita em função do ano"
      ]
    },
    {
      "cell_type": "code",
      "metadata": {
        "colab": {
          "base_uri": "https://localhost:8080/"
        },
        "id": "5tn0uI4A2d7a",
        "outputId": "ff0fe928-43e0-46a7-9438-ef8c8c7f801f"
      },
      "source": [
        "import pandas as pd\n",
        "import matplotlib.pyplot as plt\n",
        "\n",
        "df = pd.read_csv(\"https://drive.google.com/u/1/uc?id=1TPHQyck1Rdi8lwzLOkBaI0DvkqmJJdG-&export=download\")\n",
        "\n",
        "País = input(\"Digite um país \")\n",
        "\n",
        "filtro = df.query(\"País == @País\")\n",
        "x = filtro['Ano'].corr(filtro[\"PIB per capita\"])\n",
        "print(x)"
      ],
      "execution_count": null,
      "outputs": [
        {
          "output_type": "stream",
          "name": "stdout",
          "text": [
            "Digite um país Chile\n",
            "0.882565982168994\n"
          ]
        }
      ]
    }
  ]
}